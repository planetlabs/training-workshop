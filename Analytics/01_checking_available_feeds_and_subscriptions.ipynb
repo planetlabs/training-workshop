{
 "cells": [
  {
   "cell_type": "markdown",
   "metadata": {},
   "source": [
    "# Summarizing Feeds and Subscriptions\n",
    "This notebook demonstrates how to describe available [Analytics Feeds](https://developers.planet.com/docs/analytics/#analytic-feeds) and [Subscriptions](https://developers.planet.com/docs/analytics/#subscriptions) with the Planet Analytic API."
   ]
  },
  {
   "cell_type": "markdown",
   "metadata": {},
   "source": [
    "## Setup\n",
    "To use this notebook, you need to have the following:\n",
    "- A Planet account with access to the Analytics API\n",
    "- A Planet API Key"
   ]
  },
  {
   "cell_type": "markdown",
   "metadata": {},
   "source": [
    "#### Set API Key"
   ]
  },
  {
   "cell_type": "code",
   "execution_count": null,
   "metadata": {},
   "outputs": [],
   "source": [
    "import os\n",
    "import folium\n",
    "import requests\n",
    "import pandas as pd\n",
    "\n",
    "# if your Planet API Key is not set as an environment variable, you can paste it below\n",
    "API_KEY = os.environ.get('PL_API_KEY')\n",
    "# construct auth tuple for use in the requests library\n",
    "BASIC_AUTH = (API_KEY, '')"
   ]
  },
  {
   "cell_type": "markdown",
   "metadata": {},
   "source": [
    "#### Set the base url for the Planet Analytic Feeds product\n",
    "See the [Analytics API Docs](https://developers.planet.com/docs/analytics/) for more details."
   ]
  },
  {
   "cell_type": "code",
   "execution_count": null,
   "metadata": {},
   "outputs": [],
   "source": [
    "BASE_URL = \"https://api.planet.com/analytics/\""
   ]
  },
  {
   "cell_type": "markdown",
   "metadata": {},
   "source": [
    "#### Test API Connection"
   ]
  },
  {
   "cell_type": "code",
   "execution_count": null,
   "metadata": {},
   "outputs": [],
   "source": [
    "resp = requests.get(BASE_URL, auth=BASIC_AUTH)\n",
    "if resp.status_code == 200:\n",
    "    print('Yay, you can access the Analytics API')\n",
    "else:\n",
    "    print('Something is wrong:', resp.content)"
   ]
  },
  {
   "cell_type": "markdown",
   "metadata": {},
   "source": [
    "## Summarizing Feeds\n",
    "In this section, we will see describe the available feeds."
   ]
  },
  {
   "cell_type": "markdown",
   "metadata": {},
   "source": [
    "#### How many feeds are there?"
   ]
  },
  {
   "cell_type": "code",
   "execution_count": null,
   "metadata": {},
   "outputs": [],
   "source": [
    "limit = 1000\n",
    "feed_list_url = f'{BASE_URL}feeds?limit={limit}'\n",
    "print(f'Feeds endpoint: {feed_list_url}')\n",
    "resp = requests.get(feed_list_url, auth=BASIC_AUTH)\n",
    "feeds = resp.json()['data']\n",
    "feed_count = len(feeds)\n",
    "print(f'Available feeds: {feed_count}')\n",
    "if feed_count >= limit:\n",
    "    print('More feeds are probably available through pagination links')\n",
    "    print(resp.json()['links'])"
   ]
  },
  {
   "cell_type": "markdown",
   "metadata": {},
   "source": [
    "#### Inspecting feed metadata"
   ]
  },
  {
   "cell_type": "code",
   "execution_count": null,
   "metadata": {},
   "outputs": [],
   "source": [
    "from pprint import pprint\n",
    "pprint(feeds[0])"
   ]
  },
  {
   "cell_type": "markdown",
   "metadata": {},
   "source": [
    "**Some of the fields include:**\n",
    "- id: this is a unique identifier for a feed\n",
    "- title: a human friendly name for the feed\n",
    "- description: more detail text about the feed\n",
    "- created: timestamp for when the feed was originally created\n",
    "- updated: timestamp for when the feed was last modified\n",
    "- source: a blob describing the imagery on which the feed is based\n",
    "- target: a blob describing the feed's output format\n",
    "- links: a list of blobs containing urls to related resources"
   ]
  },
  {
   "cell_type": "markdown",
   "metadata": {},
   "source": [
    "#### Showing the first ten feeds in a table\n",
    "We can use a pandas DataFrame to summarize the available feeds."
   ]
  },
  {
   "cell_type": "code",
   "execution_count": null,
   "metadata": {},
   "outputs": [],
   "source": [
    "\n",
    "# bump this up in case there are many available feeds to display\n",
    "pd.options.display.max_rows = 1000\n",
    "# make a dataframe from the feeds json data\n",
    "df = pd.DataFrame(feeds[:10])\n",
    "# instead of including the entire source and target dicts, make columns for the types\n",
    "df['targetType'] = df['target'].map(lambda t: t['type'])\n",
    "df['sourceType'] = df['source'].map(lambda t: t[0]['type'])\n",
    "df[['id', 'title', 'description', 'sourceType', 'targetType', 'created', 'updated']]\n"
   ]
  },
  {
   "cell_type": "markdown",
   "metadata": {},
   "source": [
    "## Summarizing Subscriptions\n",
    "Now that we know about available feeds, let's check out available subscriptions."
   ]
  },
  {
   "cell_type": "code",
   "execution_count": null,
   "metadata": {},
   "outputs": [],
   "source": [
    "limit = 1000\n",
    "subscriptions_url = f'{BASE_URL}subscriptions?limit={limit}'\n",
    "print(f'Subscriptions endpoint: {subscriptions_url}')\n",
    "resp = requests.get(subscriptions_url, auth=BASIC_AUTH)\n",
    "subs = resp.json()['data']\n",
    "sub_count = len(subs)\n",
    "print(f'Available subscriptions: {sub_count}')\n",
    "if sub_count >= limit:\n",
    "    print('More subscriptions are probably available through pagination links')\n",
    "    print(resp.json()['links'])"
   ]
  },
  {
   "cell_type": "markdown",
   "metadata": {},
   "source": [
    "#### What's in a subscription?"
   ]
  },
  {
   "cell_type": "code",
   "execution_count": null,
   "metadata": {},
   "outputs": [],
   "source": [
    "pprint(subs[0])"
   ]
  },
  {
   "cell_type": "markdown",
   "metadata": {},
   "source": [
    "Subscriptions also have id, title, description, created, and updated fields.\n",
    "Additionally, there are fields for:\n",
    "- feedID: which feed this subscription is for\n",
    "- startTime: timestamp for the subscription's beginning\n",
    "- endTime: timestamp for the subscription's ending\n",
    "- geometry: spatial area of interest to which the subscription has access\n",
    "\n",
    "**Important:** \n",
    "Subscriptions will only get results for source imagery observed between the `startTime` and `endTime` within the specified `geometry`."
   ]
  },
  {
   "cell_type": "markdown",
   "metadata": {},
   "source": [
    "`created` and `updated` refer to when the subscription itself was set up or modified and **do not** impact results that show up for the subscription. \n",
    "\n",
    "`startTime` and `endTime` **do** limit feed results for the subscription."
   ]
  },
  {
   "cell_type": "markdown",
   "metadata": {},
   "source": [
    "#### Showing all available subscriptions"
   ]
  },
  {
   "cell_type": "code",
   "execution_count": null,
   "metadata": {},
   "outputs": [],
   "source": [
    "df = pd.DataFrame(subs[:10])\n",
    "df[['id', 'title', 'description', 'feedID', 'startTime', 'endTime', 'created', 'updated']]"
   ]
  },
  {
   "cell_type": "markdown",
   "metadata": {},
   "source": [
    "#### Filtering subscriptions by feed"
   ]
  },
  {
   "cell_type": "code",
   "execution_count": null,
   "metadata": {},
   "outputs": [],
   "source": [
    "feed_id = feeds[0]['id']\n",
    "feed_title = feeds[0]['title']\n",
    "print(feed_title)\n",
    "print('id:', feed_id)"
   ]
  },
  {
   "cell_type": "code",
   "execution_count": null,
   "metadata": {},
   "outputs": [],
   "source": [
    "filtered_subscriptions_url = f'{BASE_URL}subscriptions?feedID={feed_id}'\n",
    "print('url:', filtered_subscriptions_url)\n",
    "resp = requests.get(filtered_subscriptions_url, auth=BASIC_AUTH)\n",
    "filtered_subs = resp.json()['data']\n",
    "filtered_sub_count = len(filtered_subs)\n",
    "print(f'You have access to {filtered_sub_count} subscriptions for feed {feed_id} ({feed_title})')"
   ]
  },
  {
   "cell_type": "markdown",
   "metadata": {},
   "source": [
    "#### Inspecting a subscription's geometry\n",
    "Subscriptions have a spatial area of interest described by a geojson geometry. We can visualize the area of interest for a subscription on a map."
   ]
  },
  {
   "cell_type": "code",
   "execution_count": null,
   "metadata": {},
   "outputs": [],
   "source": [
    "# get the latest subscription's geometry\n",
    "subscription = subs[0]\n",
    "geom = subscription['geometry']\n",
    "\n",
    "print(geom['coordinates'][0][0][0])\n",
    "lon, lat = geom['coordinates'][0][0][0]\n",
    "m = folium.Map(location=[lat, lon], zoom_start=5)\n",
    "\n",
    "geo_json_data = geom\n",
    "\n",
    "folium.GeoJson(geo_json_data).add_to(m)\n",
    "m"
   ]
  }
 ],
 "metadata": {
  "kernelspec": {
   "display_name": "Python 3 (ipykernel)",
   "language": "python",
   "name": "python3"
  },
  "language_info": {
   "codemirror_mode": {
    "name": "ipython",
    "version": 3
   },
   "file_extension": ".py",
   "mimetype": "text/x-python",
   "name": "python",
   "nbconvert_exporter": "python",
   "pygments_lexer": "ipython3",
   "version": "3.9.5"
  }
 },
 "nbformat": 4,
 "nbformat_minor": 4
}
