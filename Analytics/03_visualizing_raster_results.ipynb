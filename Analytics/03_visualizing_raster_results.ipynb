{
 "cells": [
  {
   "cell_type": "markdown",
   "metadata": {},
   "source": [
    "# Visualizing Raster Results\n",
    "This notebook shows how to download and visualize [raster results](https://developers.planet.com/docs/analytics/#raster-results) from a Planet Analytics [Subscription](https://developers.planet.com/docs/analytics/#subscriptions)."
   ]
  },
  {
   "cell_type": "markdown",
   "metadata": {},
   "source": [
    "## Setup\n",
    "To use this notebook, you need to have the following:\n",
    "- A Planet account with access to the Analytics API\n",
    "- A Planet API Key\n",
    "- An Analytics Subscription ID for a raster feed such as road or building detection"
   ]
  },
  {
   "cell_type": "markdown",
   "metadata": {},
   "source": [
    "#### Set API Key"
   ]
  },
  {
   "cell_type": "code",
   "execution_count": null,
   "metadata": {},
   "outputs": [],
   "source": [
    "import os\n",
    "\n",
    "# if your Planet API Key is not set as an environment variable, you can paste it below\n",
    "API_KEY = os.environ.get('PL_API_KEY', 'PASTE_YOUR_KEY_HERE')\n",
    "# construct auth tuple for use in the requests library\n",
    "BASIC_AUTH = (API_KEY, '')"
   ]
  },
  {
   "cell_type": "markdown",
   "metadata": {},
   "source": [
    "#### Set the base url for the Planet Analytic Feeds product\n",
    "See the [Analytics API Docs](https://developers.planet.com/docs/analytics/) for more details."
   ]
  },
  {
   "cell_type": "code",
   "execution_count": null,
   "metadata": {},
   "outputs": [],
   "source": [
    "BASE_URL = \"https://api.planet.com/analytics/\""
   ]
  },
  {
   "cell_type": "markdown",
   "metadata": {},
   "source": [
    "#### Test API Connection"
   ]
  },
  {
   "cell_type": "code",
   "execution_count": null,
   "metadata": {},
   "outputs": [],
   "source": [
    "import requests\n",
    "\n",
    "subscriptions_list_url = BASE_URL + 'subscriptions' + '?limit=1000'\n",
    "resp = requests.get(subscriptions_list_url, auth=BASIC_AUTH)\n",
    "if resp.status_code == 200:\n",
    "    print('Yay, you can access the Analytics API')\n",
    "    subscriptions = resp.json()['data']\n",
    "    print('Available subscriptions:', len(subscriptions))\n",
    "else:\n",
    "    print('Something is wrong:', resp.content)"
   ]
  },
  {
   "cell_type": "markdown",
   "metadata": {},
   "source": [
    "#### Specify Analytics Subscription of Interest\n",
    "Below we will list your available subscription ids and some metadata in a dataframe and then select a subscription of interest."
   ]
  },
  {
   "cell_type": "code",
   "execution_count": null,
   "metadata": {},
   "outputs": [],
   "source": [
    "import pandas as pd\n",
    "pd.options.display.max_rows = 1000\n",
    "df = pd.DataFrame(subscriptions)\n",
    "df['start'] = pd.to_datetime(df['startTime']).dt.date\n",
    "df['end'] = pd.to_datetime(df['endTime']).dt.date\n",
    "df[['id', 'title', 'description', 'start', 'end']]"
   ]
  },
  {
   "cell_type": "markdown",
   "metadata": {},
   "source": [
    "Pick a road or building subscription from which to pull results, and replace the ID below."
   ]
  },
  {
   "cell_type": "code",
   "execution_count": null,
   "metadata": {},
   "outputs": [],
   "source": [
    "# This example ID is for a subscription of monthly road rasters\n",
    "SUBSCRIPTION_ID = 'cda3398b-1283-4ad9-87a6-e25796b5ca80'"
   ]
  },
  {
   "cell_type": "markdown",
   "metadata": {},
   "source": [
    "## Getting subscription results\n",
    "Now we will fetch some example results from the API and visualize the road raster"
   ]
  },
  {
   "cell_type": "code",
   "execution_count": null,
   "metadata": {},
   "outputs": [],
   "source": [
    "import json\n",
    "\n",
    "# Construct the url for the subscription's results collection\n",
    "subscription_results_url = BASE_URL + 'collections/' + SUBSCRIPTION_ID + '/items' + '?limit=5'\n",
    "print(\"Request URL: {}\".format(subscription_results_url))\n",
    "\n",
    "# Get subscription results collection\n",
    "resp = requests.get(subscription_results_url, auth=BASIC_AUTH)\n",
    "if resp.status_code == 200:\n",
    "    print('Yay, you can access analytic feed results!')\n",
    "    subscription_results = resp.json()\n",
    "    print('Fetched {} results.'.format(len(subscription_results['features'])))\n",
    "else:\n",
    "    print('Something is wrong:', resp.content)"
   ]
  },
  {
   "cell_type": "markdown",
   "metadata": {},
   "source": [
    "`subscription_results` is now a geojson feature collection. If we look at the keys of the most recent feature, we will see `links`, which will tell us how to get both geotiffs and webtiles associated with this result."
   ]
  },
  {
   "cell_type": "code",
   "execution_count": null,
   "metadata": {},
   "outputs": [],
   "source": [
    "latest_result = subscription_results['features'][0]\n",
    "print(latest_result.keys())"
   ]
  },
  {
   "cell_type": "markdown",
   "metadata": {},
   "source": [
    "Let's look at one of the links."
   ]
  },
  {
   "cell_type": "code",
   "execution_count": null,
   "metadata": {},
   "outputs": [],
   "source": [
    "from pprint import pprint\n",
    "pprint(latest_result['links'][0])"
   ]
  },
  {
   "cell_type": "markdown",
   "metadata": {},
   "source": [
    "Each link has `rel` and `href` keys. Let's print out the `rel`s for all of the links in our `latest_result`"
   ]
  },
  {
   "cell_type": "code",
   "execution_count": null,
   "metadata": {},
   "outputs": [],
   "source": [
    "for link in latest_result['links']:\n",
    "    print(link['rel'])"
   ]
  },
  {
   "cell_type": "markdown",
   "metadata": {},
   "source": [
    "#### What are all of these links?\n",
    "**self:** this is a link to the result geojson we're currently looking at, i.e. `latest_result`\n",
    "\n",
    "**source-quad:** the input mosaic quad that was used to produce the road raster\n",
    "\n",
    "**target-quad:** the output mosaic quad (a road raster)\n",
    "\n",
    "**source-tiles:** web map tiles for the input imagery\n",
    "\n",
    "**target-tiles:** web map tiles for the analytics output"
   ]
  },
  {
   "cell_type": "markdown",
   "metadata": {},
   "source": [
    "## Downloading Source and Target Imagery\n",
    "In this section, we weill use the feature `links` to download source and target GeoTIFF files."
   ]
  },
  {
   "cell_type": "markdown",
   "metadata": {},
   "source": [
    "To start, we'll make a helper function to get a url of interest from one of our result features"
   ]
  },
  {
   "cell_type": "code",
   "execution_count": null,
   "metadata": {},
   "outputs": [],
   "source": [
    "def get_url(feature, rel):\n",
    "    \"\"\"Get the url for a link with the specified rel from a geojson feature\n",
    "    Args:\n",
    "        feature - geojson feature from the analytics api\n",
    "        rel - link relationship of interest\n",
    "    Returns:\n",
    "        url - a url for webtiles or geotiff download\n",
    "    \"\"\"\n",
    "    for link in feature['links']:\n",
    "        if link['rel'] == rel:\n",
    "            return link['href']"
   ]
  },
  {
   "cell_type": "markdown",
   "metadata": {},
   "source": [
    "Let's take a look at the download url for the target, specified by the `rel` of `target-quad`"
   ]
  },
  {
   "cell_type": "code",
   "execution_count": null,
   "metadata": {},
   "outputs": [],
   "source": [
    "target_quad_url = get_url(latest_result, rel='target-quad')\n",
    "print(target_quad_url)"
   ]
  },
  {
   "cell_type": "markdown",
   "metadata": {},
   "source": [
    "Now, we'll make some functions to download files to a local directory."
   ]
  },
  {
   "cell_type": "code",
   "execution_count": null,
   "metadata": {},
   "outputs": [],
   "source": [
    "import os\n",
    "import pathlib\n",
    "import shutil\n",
    "\n",
    "# make a local directory in which to save the target quad\n",
    "data_dir = 'data/'\n",
    "os.makedirs(data_dir, exist_ok=True)\n",
    "\n",
    "\n",
    "def download_file(url, dest_path):\n",
    "    \"\"\"Download a file hosted at url to the specified local dest_path.\n",
    "    Args:\n",
    "        url: url for the file of interest\n",
    "        dest_path: filepath (can be relative to this notebook)\n",
    "    \"\"\"\n",
    "    # request the image\n",
    "    resp = requests.get(url, stream=True, auth=BASIC_AUTH)\n",
    "\n",
    "    # make sure the response is ok\n",
    "    if resp.status_code == 200:\n",
    "        # write the image contents to a local file\n",
    "        with open(dest_path, 'wb') as f:\n",
    "            resp.raw.decode_content = True\n",
    "            shutil.copyfileobj(resp.raw, f)\n",
    "        print('Saved file:', dest_path)\n",
    "    else:\n",
    "        print('Something is wrong:', resp.content)\n",
    "\n",
    "\n",
    "def make_local_path(feature, rel):\n",
    "    \"\"\"Programatically generate a local path to store images associated with a feature.\n",
    "    Args:\n",
    "        feature - geojson feature with an id\n",
    "        rel - link relationship of interest\n",
    "    Returns:\n",
    "        path - str representing the local path for the (feature, rel) pair\n",
    "    \"\"\"\n",
    "    data_dir = 'data/' + feature['id']\n",
    "    os.makedirs(data_dir, exist_ok=True)\n",
    "    return data_dir + '/' + rel + '.tif'\n",
    "\n",
    "\n",
    "def download(feature, rel):\n",
    "    \"\"\"Download store image associated with a (feature, rel) pair.\n",
    "    Args:\n",
    "        feature - geojson feature with an id\n",
    "        rel - link relationship of interest\n",
    "    Returns:\n",
    "        path - str representing the local path for the (feature, rel) pair\n",
    "    \"\"\"\n",
    "    path = make_local_path(feature, rel)\n",
    "    if pathlib.Path(path).exists():\n",
    "        return path\n",
    "    url = get_url(feature, rel)\n",
    "    download_file(url, path)\n",
    "    return path"
   ]
  },
  {
   "cell_type": "markdown",
   "metadata": {},
   "source": [
    "You can open the downloaded [GeoTIFF](https://medium.com/planet-stories/a-handy-introduction-to-cloud-optimized-geotiffs-1f2c9e716ec3) file with tools such as [QGIS](https://www.qgis.org/en/site/). Here's a link to your file:"
   ]
  },
  {
   "cell_type": "code",
   "execution_count": null,
   "metadata": {},
   "outputs": [],
   "source": [
    "rel = 'target-quad'\n",
    "path = download(latest_result, 'target-quad')\n",
    "print('downloaded {} to: {}'.format(rel, path))\n",
    "\n",
    "from IPython.display import FileLink\n",
    "FileLink(path)"
   ]
  },
  {
   "cell_type": "markdown",
   "metadata": {},
   "source": [
    "## Rendering source imagery and analytic rasters\n",
    "In this final part, we will plot source and target images for one road results feature, inspect the distribution of pixel values, and display the images on a map."
   ]
  },
  {
   "cell_type": "markdown",
   "metadata": {},
   "source": [
    "#### Plotting source and target quads\n",
    "We can use [rasterio](https://rasterio.readthedocs.io/en/stable/) to open and plot these GeoTIFF files."
   ]
  },
  {
   "cell_type": "code",
   "execution_count": null,
   "metadata": {},
   "outputs": [],
   "source": [
    "# make plots show up in this notebook\n",
    "%matplotlib inline"
   ]
  },
  {
   "cell_type": "code",
   "execution_count": null,
   "metadata": {},
   "outputs": [],
   "source": [
    "import rasterio\n",
    "from rasterio.plot import show\n",
    "source_path = download(latest_result, 'source-quad')\n",
    "target_path = download(latest_result, 'target-quad')\n",
    "\n",
    "\n",
    "source_im = rasterio.open(source_path)\n",
    "target_im = rasterio.open(target_path)\n",
    "print('source:')\n",
    "show(source_im)\n",
    "print('target:')\n",
    "show(target_im, cmap='hot_r')"
   ]
  },
  {
   "cell_type": "markdown",
   "metadata": {},
   "source": [
    "The numbers on the axes above are [Web Mercator](https://en.wikipedia.org/wiki/Web_Mercator_projection) coordinates. We can confirm the coordinate reference system (CRS) with rasterio:"
   ]
  },
  {
   "cell_type": "code",
   "execution_count": null,
   "metadata": {},
   "outputs": [],
   "source": [
    "print(source_im.crs)\n",
    "print(target_im.crs)"
   ]
  },
  {
   "cell_type": "markdown",
   "metadata": {},
   "source": [
    "#### Making a bigger plot\n",
    "The rendered images above are kind of small. We can use matplotlib to make a bigger plot. Here is an example of displaying the target quad on a bigger plot:"
   ]
  },
  {
   "cell_type": "code",
   "execution_count": null,
   "metadata": {},
   "outputs": [],
   "source": [
    "from matplotlib import pyplot as plt\n",
    "\n",
    "def show_image(feature, rel, cmap=None, size=(10,10)):\n",
    "    source_path = download(feature, rel)\n",
    "    with rasterio.open(source_path) as ds:\n",
    "        plt.figure(figsize=size)\n",
    "        plt.imshow(ds.read(1), cmap=cmap)\n",
    "        plt.show()\n",
    "\n",
    "show_image(latest_result, rel='target-quad', cmap='hot_r', size=(12,12))"
   ]
  },
  {
   "cell_type": "markdown",
   "metadata": {},
   "source": [
    "Unlike the rasterio plot, the pyplot plot did not keep the geo coordinates. The axes now show relative pixel coordinates from 0 to 4096."
   ]
  },
  {
   "cell_type": "markdown",
   "metadata": {},
   "source": [
    "#### Inspecting pixel value distributions\n",
    "Visually it looks like the target quad has just two colors. This is because the road detection raster sets every value in the first band to either 0 or 255. Let's look at the source and target image histograms to see this:"
   ]
  },
  {
   "cell_type": "code",
   "execution_count": null,
   "metadata": {},
   "outputs": [],
   "source": [
    "from rasterio.plot import show_hist\n",
    "show_hist(source_im)"
   ]
  },
  {
   "cell_type": "markdown",
   "metadata": {},
   "source": [
    "The source image histogram shows us that the pixel value distribution for red, green, and blue bands. All 3 bands have similarly shaped distributions across the possible values of 0 to 255. (Ignore the 4th band for now). Now let's take a look at the target image:"
   ]
  },
  {
   "cell_type": "code",
   "execution_count": null,
   "metadata": {},
   "outputs": [],
   "source": [
    "show_hist(target_im)"
   ]
  },
  {
   "cell_type": "markdown",
   "metadata": {},
   "source": [
    "The road detection histogram looks much different! All of the data is in the first band. (Ignore the 2nd band here.)\n",
    "\n",
    "Most of the values in the first band are 0 (not road), but some of them are 255 (road)"
   ]
  },
  {
   "cell_type": "markdown",
   "metadata": {},
   "source": [
    "## Making a map\n",
    "Since the source and target images are geo-referenced, we can render them on a map! Although we could render the downloaded GeoTIFFs on a map, there is also a tileserver available for both the source and target images. This last step will show how to connect an ipyleaflet map to the tileservers. "
   ]
  },
  {
   "cell_type": "markdown",
   "metadata": {},
   "source": [
    "#### Where to look?\n",
    "Since the `last_result` we looked at before was a geojson feature, we can inspect its geometry to determine where to center our new map."
   ]
  },
  {
   "cell_type": "code",
   "execution_count": null,
   "metadata": {},
   "outputs": [],
   "source": [
    "lon, lat = latest_result['geometry']['coordinates'][0][0]\n",
    "print(lat, lon)"
   ]
  },
  {
   "cell_type": "markdown",
   "metadata": {},
   "source": [
    "#### Starting with an empty basemap\n",
    "Let's make new map centered around the coordinates we found above."
   ]
  },
  {
   "cell_type": "code",
   "execution_count": null,
   "metadata": {},
   "outputs": [],
   "source": [
    "from ipyleaflet import Map\n",
    "\n",
    "m = Map(center=(lat, lon), zoom=9)\n",
    "m"
   ]
  },
  {
   "cell_type": "markdown",
   "metadata": {},
   "source": [
    "#### Outlining the feature boundary\n",
    "We can add a polygon on top of the basemap to show where the `latest_result` imagery was from."
   ]
  },
  {
   "cell_type": "code",
   "execution_count": null,
   "metadata": {},
   "outputs": [],
   "source": [
    "from ipyleaflet import GeoJSON\n",
    "geojson = GeoJSON(data=latest_result, style = {'color': 'blue', 'opacity':1, 'weight':1.9, 'dashArray':'9', 'fillOpacity':0.1})\n",
    "m.add_layer(geojson)"
   ]
  },
  {
   "cell_type": "markdown",
   "metadata": {},
   "source": [
    "#### Adding a tileserver\n",
    "Let's show the target quad on top of the basemap using a `TileLayer`. First we need to get the tileserver url. This is in the `latest_result`'s `links` with a `rel` of `target-tiles`. We can get the url with the `get_url` helper from before."
   ]
  },
  {
   "cell_type": "code",
   "execution_count": null,
   "metadata": {},
   "outputs": [],
   "source": [
    "target_tile_url = get_url(latest_result, 'target-tiles')\n",
    "print(target_tile_url)"
   ]
  },
  {
   "cell_type": "markdown",
   "metadata": {},
   "source": [
    "Now we add a tile layer"
   ]
  },
  {
   "cell_type": "code",
   "execution_count": null,
   "metadata": {},
   "outputs": [],
   "source": [
    "from ipyleaflet import TileLayer\n",
    "target_tile_layer = TileLayer(url=target_tile_url)\n",
    "m.add_layer(target_tile_layer)\n",
    "m"
   ]
  },
  {
   "cell_type": "markdown",
   "metadata": {},
   "source": [
    "Notice that the results tile layer extends past the blue box for our quad. The tileserver will display all of the results from the same mosaic. This means that results neigboring quads are displayed above. This is a useful way of exploring larger areas at once. There will be unique tileserver urls for different source mosaics (which correspond to points in time, in this case monthly)."
   ]
  },
  {
   "cell_type": "markdown",
   "metadata": {
    "jp-MarkdownHeadingCollapsed": true,
    "tags": []
   },
   "source": [
    "#### Mapping analytic results on top of source imagery\n",
    "We can make a couple of adjustments to get our map to highlight roads on top of source imagery. To do this, we will\n",
    "- clear the map layers\n",
    "- add a source imagery `TileLayer`\n",
    "- add a non-opaque target imagery `TileLayer`"
   ]
  },
  {
   "cell_type": "code",
   "execution_count": null,
   "metadata": {},
   "outputs": [],
   "source": [
    "m.clear_layers()\n",
    "source_tile_url = get_url(latest_result, 'source-tiles')\n",
    "source_tile_layer = TileLayer(url=source_tile_url)\n",
    "target_tile_layer = TileLayer(url=target_tile_url, opacity=0.2)\n",
    "m.add_layer(source_tile_layer)\n",
    "m.add_layer(target_tile_layer)\n",
    "m"
   ]
  },
  {
   "cell_type": "markdown",
   "metadata": {},
   "source": [
    "Happy mapping!"
   ]
  }
 ],
 "metadata": {
  "kernelspec": {
   "display_name": "Python 3 (ipykernel)",
   "language": "python",
   "name": "python3"
  },
  "language_info": {
   "codemirror_mode": {
    "name": "ipython",
    "version": 3
   },
   "file_extension": ".py",
   "mimetype": "text/x-python",
   "name": "python",
   "nbconvert_exporter": "python",
   "pygments_lexer": "ipython3",
   "version": "3.9.5"
  }
 },
 "nbformat": 4,
 "nbformat_minor": 4
}
