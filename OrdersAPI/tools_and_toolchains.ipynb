{
 "cells": [
  {
   "attachments": {},
   "cell_type": "markdown",
   "metadata": {},
   "source": [
    "# Tools and Toolchains\n",
    "\n",
    "[![Open in Colab](https://colab.research.google.com/assets/colab-badge.svg)](https://colab.research.google.com/github/planetlabs/training-workshop/blob/friedemann_colab_updates/OrdersAPI/tools_and_toolchains.ipynb)\n",
    "\n",
    "This notebook demonstrates using tools and toolchains when ordering with the orders api. Specifically, this notebook demonstrates the following toolchains:\n",
    "\n",
    "-   [clip](#clip)\n",
    "-   [bandmath](#bandmath)\n",
    "-   [toar](#toar)\n",
    "-   [composite](#composite)\n",
    "-   [clip -> bandmath](#clip_bandmath)\n",
    "-   [toar -> reproject -> tile](#toar_reproject_tile)\n",
    "\n",
    "For background on ordering and downloading with the orders api, see the [Ordering and Delivery](ordering_and_delivery.ipynb) notebook.\n",
    "\n",
    "Reference information can be found at [Tools & toolchains](https://developers.planet.com/docs/orders/tools-toolchains/).\n",
    "\n",
    "## Setup\n",
    "\n",
    "### When using Google Colab, run this first\n"
   ]
  },
  {
   "cell_type": "code",
   "execution_count": null,
   "metadata": {},
   "outputs": [],
   "source": [
    "# install rasterio first\n",
    "!pip install rasterio"
   ]
  },
  {
   "attachments": {},
   "cell_type": "markdown",
   "metadata": {},
   "source": [
    "### Import all required libraries\n"
   ]
  },
  {
   "cell_type": "code",
   "execution_count": null,
   "metadata": {},
   "outputs": [],
   "source": [
    "import json\n",
    "import os\n",
    "import pathlib\n",
    "import time\n",
    "\n",
    "import numpy as np\n",
    "import rasterio\n",
    "from rasterio.plot import show\n",
    "import requests\n",
    "from requests.auth import HTTPBasicAuth\n"
   ]
  },
  {
   "attachments": {},
   "cell_type": "markdown",
   "metadata": {},
   "source": [
    "## Authenticating\n",
    "\n",
    "<u>Option 1: Using Google Colab</u>\n"
   ]
  },
  {
   "cell_type": "code",
   "execution_count": null,
   "metadata": {},
   "outputs": [],
   "source": [
    "# Import the os module in order to access environment variables\n",
    "from google.colab import drive\n",
    "\n",
    "# In order to prevent making your API key visible to others,  it makes sense to\n",
    "# store your API key as a *.json file in your Google drive (in this case in a subfolder named \"Colab Notebooks\")\n",
    "# Make sure to allow Colab to connect to your Google Drive.\n",
    "drive.mount(\"/content/drive\")\n",
    "os.chdir(\"/content/drive/My Drive/Colab Notebooks\")\n",
    "with open(\"PLANET_API_KEY.json\") as json_file:\n",
    "    PLANET_API_KEY = json.load(json_file)[\"PL_API_KEY\"]\n"
   ]
  },
  {
   "attachments": {},
   "cell_type": "markdown",
   "metadata": {},
   "source": [
    "<u>Option 2: Run local Jupyter instance</u>\n"
   ]
  },
  {
   "cell_type": "code",
   "execution_count": null,
   "metadata": {},
   "outputs": [],
   "source": [
    "# API Key stored as an env variable\n",
    "PLANET_API_KEY = os.getenv(\"PL_API_KEY\")\n"
   ]
  },
  {
   "attachments": {},
   "cell_type": "markdown",
   "metadata": {},
   "source": [
    "## Create an Order\n"
   ]
  },
  {
   "cell_type": "code",
   "execution_count": null,
   "metadata": {},
   "outputs": [],
   "source": [
    "orders_url = \"https://api.planet.com/compute/ops/orders/v2\"\n",
    "\n",
    "# set up requests to work with api\n",
    "auth = HTTPBasicAuth(PLANET_API_KEY, \"\")\n",
    "headers = {\"content-type\": \"application/json\"}\n"
   ]
  },
  {
   "cell_type": "code",
   "execution_count": null,
   "metadata": {},
   "outputs": [],
   "source": [
    "# define products part of order\n",
    "single_product = [\n",
    "    {\n",
    "        \"item_ids\": [\"20151119_025740_0c74\"],\n",
    "        \"item_type\": \"PSScene\",\n",
    "        \"product_bundle\": \"analytic_udm2\",\n",
    "    }\n",
    "]\n",
    "\n",
    "same_src_products = [\n",
    "    {\n",
    "        \"item_ids\": [\"20151119_025740_0c74\", \"20151119_025739_0c74\"],\n",
    "        \"item_type\": \"PSScene\",\n",
    "        \"product_bundle\": \"analytic_udm2\",\n",
    "    }\n",
    "]\n",
    "\n",
    "multi_src_products = [\n",
    "    {\n",
    "        \"item_ids\": [\"20151119_025740_0c74\"],\n",
    "        \"item_type\": \"PSScene\",\n",
    "        \"product_bundle\": \"analytic_udm2\",\n",
    "    },\n",
    "    {\n",
    "        \"item_ids\": [\"LC81330492015320LGN01\"],\n",
    "        \"item_type\": \"Landsat8L1G\",\n",
    "        \"product_bundle\": \"analytic\",\n",
    "    },\n",
    "]\n"
   ]
  },
  {
   "cell_type": "code",
   "execution_count": null,
   "metadata": {},
   "outputs": [],
   "source": [
    "# define helpful functions for submitting, polling, and downloading an order\n",
    "def place_order(request, auth):\n",
    "    response = requests.post(\n",
    "        orders_url, data=json.dumps(request), auth=auth, headers=headers\n",
    "    )\n",
    "    print(response)\n",
    "\n",
    "    if not response.ok:\n",
    "        raise Exception(response.content)\n",
    "\n",
    "    order_id = response.json()[\"id\"]\n",
    "    print(order_id)\n",
    "    order_url = orders_url + \"/\" + order_id\n",
    "    return order_url\n",
    "\n",
    "\n",
    "def poll_for_success(order_url, auth, num_loops=50):\n",
    "    count = 0\n",
    "    while count < num_loops:\n",
    "        count += 1\n",
    "        r = requests.get(order_url, auth=auth)\n",
    "        response = r.json()\n",
    "        state = response[\"state\"]\n",
    "        print(state)\n",
    "        success_states = [\"success\", \"partial\"]\n",
    "        if state == \"failed\":\n",
    "            raise Exception(response)\n",
    "        elif state in success_states:\n",
    "            break\n",
    "\n",
    "        time.sleep(10)\n",
    "\n",
    "\n",
    "def download_order(order_url, auth, overwrite=False):\n",
    "    r = requests.get(order_url, auth=auth)\n",
    "    print(r)\n",
    "\n",
    "    current_dir = os.getcwd()\n",
    "    out_dir = current_dir + \"/output\"\n",
    "\n",
    "    response = r.json()\n",
    "    results = response[\"_links\"][\"results\"]\n",
    "    results_urls = [r[\"location\"] for r in results]\n",
    "    results_names = [r[\"name\"] for r in results]\n",
    "    results_paths = [pathlib.Path(os.path.join(out_dir, n)) for n in results_names]\n",
    "    print(\"{} items to download\".format(len(results_urls)))\n",
    "\n",
    "    for url, name, path in zip(results_urls, results_names, results_paths):\n",
    "        if overwrite or not path.exists():\n",
    "            print(\"downloading {} to {}\".format(name, path))\n",
    "            r = requests.get(url, allow_redirects=True)\n",
    "            path.parent.mkdir(parents=True, exist_ok=True)\n",
    "            open(path, \"wb\").write(r.content)\n",
    "        else:\n",
    "            print(\"{} already exists, skipping {}\".format(path, name))\n",
    "\n",
    "    return dict(zip(results_names, results_paths))\n"
   ]
  },
  {
   "cell_type": "code",
   "execution_count": null,
   "metadata": {},
   "outputs": [],
   "source": [
    "# define helpful functions for visualizing downloaded imagery\n",
    "def show_rgb(img_file):\n",
    "    with rasterio.open(img_file) as src:\n",
    "        b, g, r, n = src.read()\n",
    "\n",
    "    rgb = np.stack((r, g, b), axis=0)\n",
    "    show(rgb / rgb.max())\n",
    "\n",
    "\n",
    "def show_gray(img_file):\n",
    "    with rasterio.open(img_file) as src:\n",
    "        g = src.read(1)\n",
    "    show(g / g.max())\n"
   ]
  },
  {
   "attachments": {},
   "cell_type": "markdown",
   "metadata": {},
   "source": [
    "## Tool Demos\n",
    "\n",
    "### No Processing (reference)\n",
    "\n",
    "We will order and download the unprocessed image for comparison with the output of the toolchains defined below.\n"
   ]
  },
  {
   "cell_type": "code",
   "execution_count": null,
   "metadata": {},
   "outputs": [],
   "source": [
    "request = {\n",
    "    \"name\": \"no processing\",\n",
    "    \"products\": single_product,\n",
    "}\n"
   ]
  },
  {
   "cell_type": "code",
   "execution_count": null,
   "metadata": {},
   "outputs": [],
   "source": [
    "# allow for caching, replace this with your image file\n",
    "current_dir = os.getcwd()\n",
    "img_file = os.path.join(\n",
    "    current_dir,\n",
    "    \"output/aed363af-4ec4-480c-911c-22221a87e260/PSScene/20151119_025740_0c74_3B_AnalyticMS.tif\",\n",
    ")\n",
    "img_file\n"
   ]
  },
  {
   "cell_type": "code",
   "execution_count": null,
   "metadata": {},
   "outputs": [],
   "source": [
    "if not os.path.isfile(img_file):\n",
    "    order_url = place_order(request, auth)\n",
    "    poll_for_success(order_url, auth)\n",
    "    downloaded_files = download_order(order_url, auth)\n",
    "    img_file = next(\n",
    "        downloaded_files[d]\n",
    "        for d in downloaded_files\n",
    "        if d.endswith(\"_3B_AnalyticMS.tif\")\n",
    "    )\n",
    "print(img_file)\n"
   ]
  },
  {
   "attachments": {},
   "cell_type": "markdown",
   "metadata": {},
   "source": [
    "### Clip\n",
    "\n",
    "<a id='clip'></a>\n",
    "\n",
    "Clipping is likely the most common tool that will be used. It allows us to only download the pixels we are interested in.\n"
   ]
  },
  {
   "cell_type": "code",
   "execution_count": null,
   "metadata": {},
   "outputs": [],
   "source": [
    "clip_aoi = {\n",
    "    \"type\": \"Polygon\",\n",
    "    \"coordinates\": [\n",
    "        [\n",
    "            [94.81858044862747, 15.858073043526062],\n",
    "            [94.86242249608041, 15.858073043526062],\n",
    "            [94.86242249608041, 15.894323164978303],\n",
    "            [94.81858044862747, 15.894323164978303],\n",
    "            [94.81858044862747, 15.858073043526062],\n",
    "        ]\n",
    "    ],\n",
    "}\n"
   ]
  },
  {
   "cell_type": "code",
   "execution_count": null,
   "metadata": {},
   "outputs": [],
   "source": [
    "# define the clip tool\n",
    "clip = {\"clip\": {\"aoi\": clip_aoi}}\n"
   ]
  },
  {
   "cell_type": "code",
   "execution_count": null,
   "metadata": {},
   "outputs": [],
   "source": [
    "# create an order request with the clipping tool\n",
    "request_clip = {\"name\": \"just clip\", \"products\": single_product, \"tools\": [clip]}\n",
    "\n",
    "request_clip\n"
   ]
  },
  {
   "cell_type": "code",
   "execution_count": null,
   "metadata": {},
   "outputs": [],
   "source": [
    "# allow for caching so we don't always run clip\n",
    "run_clip = True\n",
    "\n",
    "clip_img_file = os.path.join(\n",
    "    current_dir,\n",
    "    \"output/eeca7276-81b0-4eb6-bb5b-70e3f83ee23d/PSScene/20151119_025740_0c74_3B_AnalyticMS_clip.tif\",\n",
    ")\n",
    "\n",
    "if os.path.isfile(clip_img_file):\n",
    "    run_clip = False\n"
   ]
  },
  {
   "cell_type": "code",
   "execution_count": null,
   "metadata": {},
   "outputs": [],
   "source": [
    "if run_clip:\n",
    "    clip_order_url = place_order(request_clip, auth)\n",
    "    poll_for_success(clip_order_url, auth)\n",
    "    downloaded_clip_files = download_order(clip_order_url, auth)\n",
    "    clip_img_file = next(\n",
    "        downloaded_clip_files[d]\n",
    "        for d in downloaded_clip_files\n",
    "        if d.endswith(\"_3B_AnalyticMS_clip.tif\")\n",
    "    )\n",
    "clip_img_file\n"
   ]
  },
  {
   "cell_type": "code",
   "execution_count": null,
   "metadata": {},
   "outputs": [],
   "source": [
    "show_rgb(img_file)\n",
    "show_rgb(clip_img_file)\n"
   ]
  },
  {
   "attachments": {},
   "cell_type": "markdown",
   "metadata": {},
   "source": [
    "Alright! Clipping worked. Beautiful! This saves a lot of download bandwidth and processing on our end.\n"
   ]
  },
  {
   "attachments": {},
   "cell_type": "markdown",
   "metadata": {},
   "source": [
    "### Band Math\n",
    "\n",
    "<a id='bandmath'></a>\n",
    "\n",
    "To demonstrate band math we will order an NDVI image.\n"
   ]
  },
  {
   "cell_type": "code",
   "execution_count": null,
   "metadata": {},
   "outputs": [],
   "source": [
    "bandmath = {\n",
    "    \"bandmath\": {\n",
    "        \"pixel_type\": \"32R\",\n",
    "        \"b1\": \"(b4 - b3) / (b4 + b3)\",\n",
    "        \"b2\": \"b1\",  # BGRN\n",
    "        \"b3\": \"b2\",\n",
    "    }\n",
    "}\n"
   ]
  },
  {
   "cell_type": "code",
   "execution_count": null,
   "metadata": {},
   "outputs": [],
   "source": [
    "bandmath_request = {\n",
    "    \"name\": \"band math\",\n",
    "    \"products\": single_product,\n",
    "    \"tools\": [bandmath],\n",
    "}\n",
    "bandmath_request\n"
   ]
  },
  {
   "cell_type": "code",
   "execution_count": null,
   "metadata": {},
   "outputs": [],
   "source": [
    "run_bandmath = True\n",
    "\n",
    "# allow for caching so we don't always run clip\n",
    "bandmath_img_file = os.path.join(\n",
    "    current_dir,\n",
    "    \"output/bc8cfe9e-a067-409c-a299-1c066583e3e6/PSScene/20151119_025740_0c74_3B_AnalyticMS_bandmath.tif\",\n",
    ")\n",
    "\n",
    "if os.path.isfile(bandmath_img_file):\n",
    "    run_bandmath = False\n"
   ]
  },
  {
   "cell_type": "code",
   "execution_count": null,
   "metadata": {},
   "outputs": [],
   "source": [
    "if run_bandmath:\n",
    "    bandmath_order_url = place_order(bandmath_request, auth)\n",
    "    poll_for_success(bandmath_order_url, auth)\n",
    "    downloaded_bandmath_files = download_order(bandmath_order_url, auth)\n",
    "    bandmath_img_file = next(\n",
    "        downloaded_bandmath_files[d]\n",
    "        for d in downloaded_bandmath_files\n",
    "        if d.endswith(\"_bandmath.tif\")\n",
    "    )\n",
    "bandmath_img_file\n"
   ]
  },
  {
   "cell_type": "code",
   "execution_count": null,
   "metadata": {},
   "outputs": [],
   "source": [
    "show_rgb(img_file)\n",
    "show_gray(bandmath_img_file)\n"
   ]
  },
  {
   "attachments": {},
   "cell_type": "markdown",
   "metadata": {},
   "source": [
    "This is a beautiful NDVI image!\n"
   ]
  },
  {
   "attachments": {},
   "cell_type": "markdown",
   "metadata": {},
   "source": [
    "### TOAR\n",
    "\n",
    "<a id='toar'></a>\n",
    "\n",
    "The `toar` tool converts imagery to Top of Atmosphere Reflectance.\n"
   ]
  },
  {
   "cell_type": "code",
   "execution_count": null,
   "metadata": {},
   "outputs": [],
   "source": [
    "toar = {\"toar\": {\"scale_factor\": 10000}}\n",
    "toar_request = {\"name\": \"toar\", \"products\": single_product, \"tools\": [toar]}\n",
    "toar_request\n"
   ]
  },
  {
   "cell_type": "code",
   "execution_count": null,
   "metadata": {},
   "outputs": [],
   "source": [
    "run_toar = True\n",
    "\n",
    "# allow for caching so we don't always run clip\n",
    "toar_img_file = os.path.join(\n",
    "    current_dir,\n",
    "    \"output/bd8db61b-9012-4ca5-96ba-b0af15022d77/PSScene/20151119_025740_0c74_3B_AnalyticMS_toar.tif\",\n",
    ")\n",
    "\n",
    "if os.path.isfile(toar_img_file):\n",
    "    run_toar = False\n"
   ]
  },
  {
   "cell_type": "code",
   "execution_count": null,
   "metadata": {},
   "outputs": [],
   "source": [
    "if run_toar:\n",
    "    toar_order_url = place_order(toar_request, auth)\n",
    "    poll_for_success(toar_order_url, auth)\n",
    "    downloaded_toar_files = download_order(toar_order_url, auth)\n",
    "    toar_img_file = next(\n",
    "        downloaded_toar_files[d]\n",
    "        for d in downloaded_toar_files\n",
    "        if d.endswith(\"_toar.tif\")\n",
    "    )\n",
    "toar_img_file\n"
   ]
  },
  {
   "cell_type": "code",
   "execution_count": null,
   "metadata": {},
   "outputs": [],
   "source": [
    "show_rgb(img_file)\n",
    "show_rgb(toar_img_file)\n"
   ]
  },
  {
   "attachments": {},
   "cell_type": "markdown",
   "metadata": {},
   "source": [
    "The effect of conversion to reflectance isn't really apparent in one image. But when comparing two images taken at different times of the year, the conversion to reflectance will remove effects of the sun's location and make the images more similar.\n"
   ]
  },
  {
   "attachments": {},
   "cell_type": "markdown",
   "metadata": {},
   "source": [
    "### Composite\n",
    "\n",
    "<a id='composite'></a>\n",
    "\n",
    "The composite tool combines multiple images into one image, similar to mosaicing. The input images must have the same band configuration, and that band configuration will be propagated to the output image.\n"
   ]
  },
  {
   "cell_type": "code",
   "execution_count": null,
   "metadata": {},
   "outputs": [],
   "source": [
    "composite = {\"composite\": {}}\n",
    "\n",
    "composite_request = {\n",
    "    \"name\": \"composite\",\n",
    "    \"products\": same_src_products,\n",
    "    \"tools\": [composite],\n",
    "}\n",
    "\n",
    "composite_request\n"
   ]
  },
  {
   "cell_type": "code",
   "execution_count": null,
   "metadata": {},
   "outputs": [],
   "source": [
    "run_composite = True\n",
    "\n",
    "composite_file = os.path.join(\n",
    "    current_dir,\n",
    "    \"output/c5023980-f5f1-4281-a1a9-c3a550a019e3/composite.tif\",\n",
    ")\n",
    "\n",
    "if os.path.isfile(composite_file):\n",
    "    run_composite = False\n"
   ]
  },
  {
   "cell_type": "code",
   "execution_count": null,
   "metadata": {},
   "outputs": [],
   "source": [
    "if run_composite:\n",
    "    composite_order_url = place_order(composite_request, auth)\n",
    "    poll_for_success(composite_order_url, auth)\n",
    "    downloaded_composite_files = download_order(composite_order_url, auth)\n",
    "    composite_file = next(\n",
    "        downloaded_composite_files[d]\n",
    "        for d in downloaded_composite_files\n",
    "        if d.endswith(\"composite.tif\")\n",
    "    )\n",
    "composite_file\n"
   ]
  },
  {
   "cell_type": "code",
   "execution_count": null,
   "metadata": {},
   "outputs": [],
   "source": [
    "show_rgb(composite_file)\n"
   ]
  },
  {
   "attachments": {},
   "cell_type": "markdown",
   "metadata": {},
   "source": [
    "Beautiful! The images have been combined into one seamless image.\n"
   ]
  },
  {
   "attachments": {},
   "cell_type": "markdown",
   "metadata": {},
   "source": [
    "### Combined Tools - Clip and Band Math\n",
    "\n",
    "<a id='clip_bandmath'></a>\n",
    "\n",
    "This toolchain demonstrates how we can combine the clipping tool with the NDVI band math tool to only process and download the NDVI values for pixels we are interested in. Combining tools is as simple as combining the tool definitions in a list in the order request.\n"
   ]
  },
  {
   "cell_type": "code",
   "execution_count": null,
   "metadata": {},
   "outputs": [],
   "source": [
    "clip_bandmath_request = {\n",
    "    \"name\": \"clip and bandmath\",\n",
    "    \"products\": single_product,\n",
    "    \"tools\": [clip, bandmath],\n",
    "}\n",
    "clip_bandmath_request\n"
   ]
  },
  {
   "cell_type": "code",
   "execution_count": null,
   "metadata": {},
   "outputs": [],
   "source": [
    "run_clip_bandmath = True\n",
    "\n",
    "clip_bandmath_file = os.path.join(\n",
    "    current_dir,\n",
    "    \"output/0374fbce-6e6c-410c-8db1-8251bb1f6299/PSScene/20151119_025740_0c74_3B_AnalyticMS_clip_bandmath.tif\",\n",
    ")\n",
    "\n",
    "if os.path.isfile(clip_bandmath_file):\n",
    "    run_clip_bandmath = False\n"
   ]
  },
  {
   "cell_type": "code",
   "execution_count": null,
   "metadata": {},
   "outputs": [],
   "source": [
    "if run_clip_bandmath:\n",
    "    clip_bandmath_order_url = place_order(clip_bandmath_request, auth)\n",
    "    poll_for_success(clip_bandmath_order_url, auth)\n",
    "    downloaded_clip_bandmath_files = download_order(clip_bandmath_order_url, auth)\n",
    "    clip_bandmath_file = next(\n",
    "        downloaded_clip_bandmath_files[d]\n",
    "        for d in downloaded_clip_bandmath_files\n",
    "        if d.endswith(\"_clip_bandmath.tif\")\n",
    "    )\n",
    "clip_bandmath_file\n"
   ]
  },
  {
   "cell_type": "code",
   "execution_count": null,
   "metadata": {},
   "outputs": [],
   "source": [
    "show_gray(clip_bandmath_file)\n"
   ]
  },
  {
   "attachments": {},
   "cell_type": "markdown",
   "metadata": {},
   "source": [
    "It is easy to add tools into a toolchain and saves a 'ton' of unnecessary pixel downloads and processing on our end. Big win!\n"
   ]
  },
  {
   "attachments": {},
   "cell_type": "markdown",
   "metadata": {},
   "source": [
    "## TOAR, Reproject, Tile\n",
    "\n",
    "<a id='toar_reproject_tile'></a>\n",
    "\n",
    "For a more complicated example, we will convert the pixels to reflectance, project them to WGS84, and then tile them.\n"
   ]
  },
  {
   "cell_type": "code",
   "execution_count": null,
   "metadata": {},
   "outputs": [],
   "source": [
    "reproject =     {\n",
    "    \"reproject\": {\n",
    "        \"projection\": \"WGS84\",\n",
    "        \"kernel\": \"cubic\"\n",
    "    }\n",
    "}\n",
    "\n",
    "tile = {\n",
    "  \"tile\": {\n",
    "    \"tile_size\": 1232,\n",
    "    \"origin_x\": -180,\n",
    "    \"origin_y\": -90,\n",
    "    \"pixel_size\": 0.000027056277056,\n",
    "    \"name_template\": \"C1232_30_30_{tilex:04d}_{tiley:04d}\"\n",
    "  }\n",
    "}"
   ]
  },
  {
   "cell_type": "code",
   "execution_count": null,
   "metadata": {},
   "outputs": [],
   "source": [
    "trt_request = {\n",
    "    \"name\": \"toar reproject tile\",\n",
    "    \"products\": single_product,\n",
    "    \"tools\": [toar, reproject, tile],\n",
    "}\n",
    "trt_request\n"
   ]
  },
  {
   "cell_type": "code",
   "execution_count": null,
   "metadata": {},
   "outputs": [],
   "source": [
    "run_trt = True\n",
    "\n",
    "tile_files = [\n",
    "    \"C1232_30_30_8243_3175.tif\",\n",
    "    \"C1232_30_30_8242_3175.tif\",\n",
    "    \"C1232_30_30_8247_3178.tif\",\n",
    "    \"C1232_30_30_8243_3174.tif\",\n",
    "    \"C1232_30_30_8244_3174.tif\",\n",
    "    \"C1232_30_30_8244_3177.tif\",\n",
    "    \"C1232_30_30_8243_3176.tif\",\n",
    "    \"C1232_30_30_8247_3177.tif\",\n",
    "    \"C1232_30_30_8242_3176.tif\",\n",
    "    \"C1232_30_30_8244_3175.tif\",\n",
    "    \"C1232_30_30_8246_3177.tif\",\n",
    "    \"C1232_30_30_8245_3175.tif\",\n",
    "    \"C1232_30_30_8244_3176.tif\",\n",
    "    \"C1232_30_30_8245_3177.tif\",\n",
    "    \"C1232_30_30_8246_3178.tif\",\n",
    "    \"C1232_30_30_8245_3176.tif\",\n",
    "    \"C1232_30_30_8245_3178.tif\",\n",
    "    \"C1232_30_30_8246_3176.tif\",\n",
    "    \"C1232_30_30_8246_3179.tif\",\n",
    "]\n",
    "if os.path.isfile(\n",
    "    os.path.join(\n",
    "        current_dir,\n",
    "        \"output/91bf00dc-d9ec-4690-9cc7-3536f2819693/PSScene\",\n",
    "        tile_files[0],\n",
    "    )\n",
    "):\n",
    "    run_trt = False\n"
   ]
  },
  {
   "cell_type": "code",
   "execution_count": null,
   "metadata": {},
   "outputs": [],
   "source": [
    "if run_trt:\n",
    "    trt_order_url = place_order(trt_request, auth)\n",
    "    poll_for_success(trt_order_url, auth)\n",
    "    downloaded_trt_files = download_order(trt_order_url, auth)\n",
    "    tile_files = list(\n",
    "        d for d in downloaded_trt_files.values() if d.name.startswith(\"C1232_30_30_\")\n",
    "    )\n",
    "\n",
    "for f in tile_files:\n",
    "    print(f)\n"
   ]
  },
  {
   "cell_type": "code",
   "execution_count": null,
   "metadata": {},
   "outputs": [],
   "source": [
    "for f in tile_files[:4]:\n",
    "    tile_file = os.path.join(\n",
    "        current_dir,\n",
    "        \"output/91bf00dc-d9ec-4690-9cc7-3536f2819693/PSScene\",\n",
    "        f,\n",
    "    )\n",
    "    if os.path.isfile(tile_file):\n",
    "        show_rgb(tile_file)\n"
   ]
  },
  {
   "cell_type": "code",
   "execution_count": null,
   "metadata": {},
   "outputs": [],
   "source": [
    "test_file = os.path.join(\n",
    "    current_dir,\n",
    "    \"output/91bf00dc-d9ec-4690-9cc7-3536f2819693/PSScene\",\n",
    "    tile_files[0],\n",
    ")\n"
   ]
  },
  {
   "cell_type": "code",
   "execution_count": null,
   "metadata": {},
   "outputs": [],
   "source": [
    "# for this to work properly, your path should not have any spaces in it. \n",
    "!gdalinfo $test_file\n",
    "\n",
    "# If the above does not work, uncomment the row below and update the path\n",
    "# !gdalinfo \"/content/drive/MyDrive/Colab_Notebooks/output/91bf00dc-d9ec-4690-9cc7-3536f2819693/PSScene/C1232_30_30_8243_3175.tif\"\n"
   ]
  },
  {
   "attachments": {},
   "cell_type": "markdown",
   "metadata": {},
   "source": [
    "The files have indeed been reprojected to WSG 84 and tiled. It is that easy!\n"
   ]
  }
 ],
 "metadata": {
  "kernelspec": {
   "display_name": "BKG",
   "language": "python",
   "name": "python3"
  },
  "language_info": {
   "codemirror_mode": {
    "name": "ipython",
    "version": 3
   },
   "file_extension": ".py",
   "mimetype": "text/x-python",
   "name": "python",
   "nbconvert_exporter": "python",
   "pygments_lexer": "ipython3",
   "version": "3.10.2 | packaged by conda-forge | (main, Feb  1 2022, 19:26:10) [MSC v.1929 64 bit (AMD64)]"
  },
  "vscode": {
   "interpreter": {
    "hash": "8193bff813ed4987205ebdcf22c67ab9de2b48ce7fd87d3c9e9bf42ce94b43ce"
   }
  }
 },
 "nbformat": 4,
 "nbformat_minor": 2
}
