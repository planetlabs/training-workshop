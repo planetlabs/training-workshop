{
 "cells": [
  {
   "attachments": {},
   "cell_type": "markdown",
   "metadata": {},
   "source": [
    "# Ordering and Delivery\n",
    "\n",
    "[![Open in Colab](https://colab.research.google.com/assets/colab-badge.svg)](https://colab.research.google.com/github/planetlabs/training-workshop/blob/friedemann_colab_updates/OrdersAPI/ordering_and_delivery.ipynb)\n",
    "\n",
    "This notebook demonstrates ordering and download with the orders api. In this notebook, we check authentication by requesting an orders list, then we create an order for two Analytic `PSScene4Band` images. We poll for order success then download images individually. And finally, we create, poll, and download the same order delivered as a single zip file.\n",
    "\n",
    "Reference information can be found at [Ordering & Delivery](https://developers.planet.com/docs/orders/ordering-delivery/).\n"
   ]
  },
  {
   "cell_type": "code",
   "execution_count": null,
   "metadata": {},
   "outputs": [],
   "source": [
    "import json\n",
    "import os\n",
    "import pathlib\n",
    "import time\n",
    "\n",
    "import requests\n",
    "from requests.auth import HTTPBasicAuth\n"
   ]
  },
  {
   "attachments": {},
   "cell_type": "markdown",
   "metadata": {},
   "source": [
    "## Authenticating\n",
    "\n",
    "<u>Option 1: Using Google Colab</u>\n"
   ]
  },
  {
   "cell_type": "code",
   "execution_count": null,
   "metadata": {},
   "outputs": [],
   "source": [
    "# Import the os module in order to access environment variables\n",
    "from google.colab import drive\n",
    "\n",
    "# In order to prevent making your API key visible to others,  it makes sense to\n",
    "# store your API key as a *.json file in your Google drive (in this case in a subfolder named \"Colab Notebooks\")\n",
    "# Make sure to allow Colab to connect to your Google Drive.\n",
    "drive.mount(\"/content/drive\")\n",
    "os.chdir(\"/content/drive/My Drive/Colab Notebooks\")\n",
    "with open(\"PLANET_API_KEY.json\") as json_file:\n",
    "    PLANET_API_KEY = json.load(json_file)[\"PL_API_KEY\"]\n"
   ]
  },
  {
   "attachments": {},
   "cell_type": "markdown",
   "metadata": {},
   "source": [
    "<u>Option 2: Run local Jupyter instance</u>\n"
   ]
  },
  {
   "cell_type": "code",
   "execution_count": null,
   "metadata": {},
   "outputs": [],
   "source": [
    "# API Key stored as an env variable\n",
    "PLANET_API_KEY = os.getenv(\"PL_API_KEY\")\n"
   ]
  },
  {
   "attachments": {},
   "cell_type": "markdown",
   "metadata": {},
   "source": [
    "### Set up the main endpoint of the Orders API\n"
   ]
  },
  {
   "cell_type": "code",
   "execution_count": null,
   "metadata": {},
   "outputs": [],
   "source": [
    "orders_url = \"https://api.planet.com/compute/ops/orders/v2\"\n"
   ]
  },
  {
   "attachments": {},
   "cell_type": "markdown",
   "metadata": {},
   "source": [
    "### Curl example\n",
    "\n",
    "To check your orders list and make sure you have the permissions you need, uncomment the following line to run `curl`\n"
   ]
  },
  {
   "cell_type": "code",
   "execution_count": null,
   "metadata": {},
   "outputs": [],
   "source": [
    "# !curl -L -H \"Authorization: api-key $PLANET_API_KEY\" $orders_url\n"
   ]
  },
  {
   "attachments": {},
   "cell_type": "markdown",
   "metadata": {},
   "source": [
    "### Requests example\n",
    "\n",
    "In this notebook, we will be using `requests` to communicate with the orders v2 API. First, we will check our orders list to make sure authentication and communication is working as expected.\n",
    "\n",
    "We want to get a response code of `200` from this API call. To troubleshoot other response codes, see the [List Orders](https://developers.planet.com/docs/orders/reference/#operation/listOrders) AOI reference.\n"
   ]
  },
  {
   "cell_type": "code",
   "execution_count": null,
   "metadata": {},
   "outputs": [],
   "source": [
    "auth = HTTPBasicAuth(PLANET_API_KEY, \"\")\n",
    "response = requests.get(orders_url, auth=auth)\n",
    "response\n"
   ]
  },
  {
   "attachments": {},
   "cell_type": "markdown",
   "metadata": {},
   "source": [
    "Now we will list the orders we have created thus far. Your list may be empty if you have not created an order yet.\n"
   ]
  },
  {
   "cell_type": "code",
   "execution_count": null,
   "metadata": {},
   "outputs": [],
   "source": [
    "orders = response.json()[\"orders\"]\n",
    "len(orders)\n"
   ]
  },
  {
   "attachments": {},
   "cell_type": "markdown",
   "metadata": {},
   "source": [
    "## Ordering\n",
    "\n",
    "In this example, we will order two `PSScene4Band` analytic images. For variations on this kind of order, see [Ordering Data](https://developers.planet.com/docs/orders/ordering-delivery/#ordering-data_1).\n",
    "\n",
    "In this order, we request an `analytic` bundle. A bundle is a group of assets for an item. The `analytic` bundle for the `PSScene4Band` item contains 3 assets: the analytic image, the analytic xml file, and the udm. See the [Product bundles reference](https://developers.planet.com/docs/orders/product-bundles-reference/) to learn about other bundles and other items.\n",
    "\n",
    "### Place Order\n"
   ]
  },
  {
   "cell_type": "code",
   "execution_count": null,
   "metadata": {},
   "outputs": [],
   "source": [
    "# set content type to json\n",
    "headers = {\"content-type\": \"application/json\"}\n"
   ]
  },
  {
   "cell_type": "code",
   "execution_count": null,
   "metadata": {},
   "outputs": [],
   "source": [
    "request = {\n",
    "    \"name\": \"simple order\",\n",
    "    \"products\": [\n",
    "        {\n",
    "            \"item_ids\": [\n",
    "                \"20220921_051448_33_2475\",\n",
    "                \"20220921_051258_63_2475\",\n",
    "                \"20220921_051254_06_2475\",\n",
    "                \"20220921_051249_49_2475\",\n",
    "                \"20220921_051244_92_2475\",\n",
    "                \"20220921_051240_35_2475\",\n",
    "                \"20220921_051235_78_2475\",\n",
    "                \"20220921_051231_21_2475\",\n",
    "                \"20220921_051226_64_2475\",\n",
    "                \"20220921_051222_07_2475\",\n",
    "                \"20220921_051217_50_2475\",\n",
    "                \"20220921_051212_92_2475\",\n",
    "                \"20220921_051208_35_2475\",\n",
    "                \"20220921_051154_64_2475\",\n",
    "                \"20220921_051002_66_2475\",\n",
    "                \"20220921_050958_09_2475\",\n",
    "                \"20220921_050955_80_2475\",\n",
    "                \"20220921_050951_23_2475\",\n",
    "                \"20220921_050946_66_2475\",\n",
    "                \"20220921_050944_37_2475\",\n",
    "            ],\n",
    "            \"item_type\": \"PSScene\",\n",
    "            \"product_bundle\": \"visual\",\n",
    "        }\n",
    "    ],\n",
    "}\n"
   ]
  },
  {
   "cell_type": "code",
   "execution_count": null,
   "metadata": {},
   "outputs": [],
   "source": [
    "def place_order(request, auth):\n",
    "    response = requests.post(\n",
    "        orders_url, data=json.dumps(request), auth=auth, headers=headers\n",
    "    )\n",
    "    if response.status_code > 299:\n",
    "        print(response.text)\n",
    "    order_id = response.json()[\"id\"]\n",
    "    print(order_id)\n",
    "    order_url = orders_url + \"/\" + order_id\n",
    "    return order_url\n"
   ]
  },
  {
   "cell_type": "code",
   "execution_count": null,
   "metadata": {},
   "outputs": [],
   "source": [
    "order_url = place_order(request, auth)\n"
   ]
  },
  {
   "attachments": {},
   "cell_type": "markdown",
   "metadata": {},
   "source": [
    "### Cancel an Order\n"
   ]
  },
  {
   "cell_type": "code",
   "execution_count": null,
   "metadata": {},
   "outputs": [],
   "source": [
    "# report order state\n",
    "requests.get(order_url, auth=auth).json()[\"state\"]\n"
   ]
  },
  {
   "cell_type": "code",
   "execution_count": null,
   "metadata": {},
   "outputs": [],
   "source": [
    "# oid = oids[0]\n",
    "response = requests.put(order_url, auth=auth)\n",
    "response\n"
   ]
  },
  {
   "cell_type": "code",
   "execution_count": null,
   "metadata": {},
   "outputs": [],
   "source": [
    "# report order state - it could take a little while to cancel\n",
    "requests.get(order_url, auth=auth).json()[\"state\"]\n"
   ]
  },
  {
   "attachments": {},
   "cell_type": "markdown",
   "metadata": {},
   "source": [
    "### Poll for Order Success\n"
   ]
  },
  {
   "cell_type": "code",
   "execution_count": null,
   "metadata": {},
   "outputs": [],
   "source": [
    "# re-order since we canceled our last order\n",
    "order_url = place_order(request, auth)\n"
   ]
  },
  {
   "cell_type": "code",
   "execution_count": null,
   "metadata": {},
   "outputs": [],
   "source": [
    "def poll_for_success(order_url, auth, num_loops=30):\n",
    "    count = 0\n",
    "    while count < num_loops:\n",
    "        count += 1\n",
    "        r = requests.get(order_url, auth=auth)\n",
    "        response = r.json()\n",
    "        state = response[\"state\"]\n",
    "        print(state)\n",
    "        end_states = [\"success\", \"failed\", \"partial\"]\n",
    "        if state in end_states:\n",
    "            break\n",
    "        time.sleep(5)\n",
    "\n",
    "\n",
    "poll_for_success(order_url, auth)\n"
   ]
  },
  {
   "attachments": {},
   "cell_type": "markdown",
   "metadata": {},
   "source": [
    "### View Results\n"
   ]
  },
  {
   "cell_type": "code",
   "execution_count": null,
   "metadata": {
    "scrolled": false
   },
   "outputs": [],
   "source": [
    "# If you don't want to wait for your order to succeed before running this cell, you can recreate the order_url based on\n",
    "# an order you created earlier. To do so, uncomment the following line and paste the replace the order id.\n",
    "\n",
    "# order_url = orders_url + \"/e56999c3-c03d-479a-be0d-9b140cd6f323\"\n",
    "\n",
    "r = requests.get(order_url, auth=auth)\n",
    "response = r.json()\n",
    "results = response[\"_links\"][\"results\"]\n"
   ]
  },
  {
   "cell_type": "code",
   "execution_count": null,
   "metadata": {},
   "outputs": [],
   "source": [
    "[r[\"name\"] for r in results]\n"
   ]
  },
  {
   "attachments": {},
   "cell_type": "markdown",
   "metadata": {},
   "source": [
    "## Download\n",
    "\n",
    "### Downloading each asset individually\n"
   ]
  },
  {
   "cell_type": "code",
   "execution_count": null,
   "metadata": {},
   "outputs": [],
   "source": [
    "def download_results(results, overwrite=False):\n",
    "    results_urls = [r[\"location\"] for r in results]\n",
    "    results_names = [r[\"name\"] for r in results]\n",
    "    print(\"{} items to download\".format(len(results_urls)))\n",
    "\n",
    "    # Create an output sub directory\n",
    "    current_dir = os.getcwd()\n",
    "    out_dir = current_dir + \"/output\"\n",
    "\n",
    "    for url, name in zip(results_urls, results_names):\n",
    "        path = pathlib.Path(os.path.join(out_dir, name))\n",
    "\n",
    "        if overwrite or not path.exists():\n",
    "            print(\"downloading {} to {}\".format(name, path))\n",
    "            r = requests.get(url, allow_redirects=True)\n",
    "            path.parent.mkdir(parents=True, exist_ok=True)\n",
    "            open(path, \"wb\").write(r.content)\n",
    "        else:\n",
    "            print(\"{} already exists, skipping {}\".format(path, name))\n"
   ]
  },
  {
   "cell_type": "code",
   "execution_count": null,
   "metadata": {},
   "outputs": [],
   "source": [
    "download_results(results)\n"
   ]
  },
  {
   "attachments": {},
   "cell_type": "markdown",
   "metadata": {},
   "source": [
    "### Downloading as a single zip\n",
    "\n",
    "To download all of the order assets as a single zip, the order request needs to be changed slightly with delivery instructions. After that, polling and downloading are the same.\n"
   ]
  },
  {
   "cell_type": "code",
   "execution_count": null,
   "metadata": {},
   "outputs": [],
   "source": [
    "zip_delivery = {\"delivery\": {\"single_archive\": True, \"archive_type\": \"zip\"}}\n",
    "request_zip = request.copy()\n",
    "request_zip.update(zip_delivery)\n",
    "request_zip\n"
   ]
  },
  {
   "cell_type": "code",
   "execution_count": null,
   "metadata": {},
   "outputs": [],
   "source": [
    "order_url = place_order(request_zip, auth)\n"
   ]
  },
  {
   "cell_type": "code",
   "execution_count": null,
   "metadata": {},
   "outputs": [],
   "source": [
    "poll_for_success(order_url, auth)\n"
   ]
  },
  {
   "cell_type": "code",
   "execution_count": null,
   "metadata": {},
   "outputs": [],
   "source": [
    "r = requests.get(order_url, auth=auth)\n",
    "response = r.json()\n",
    "results = response[\"_links\"][\"results\"]\n"
   ]
  },
  {
   "cell_type": "code",
   "execution_count": null,
   "metadata": {},
   "outputs": [],
   "source": [
    "download_results(results)\n"
   ]
  }
 ],
 "metadata": {
  "kernelspec": {
   "display_name": "Python 3.10.2 ('BKG')",
   "language": "python",
   "name": "python3"
  },
  "language_info": {
   "codemirror_mode": {
    "name": "ipython",
    "version": 3
   },
   "file_extension": ".py",
   "mimetype": "text/x-python",
   "name": "python",
   "nbconvert_exporter": "python",
   "pygments_lexer": "ipython3",
   "version": "3.10.2 | packaged by conda-forge | (main, Feb  1 2022, 19:26:10) [MSC v.1929 64 bit (AMD64)]"
  },
  "vscode": {
   "interpreter": {
    "hash": "8193bff813ed4987205ebdcf22c67ab9de2b48ce7fd87d3c9e9bf42ce94b43ce"
   }
  }
 },
 "nbformat": 4,
 "nbformat_minor": 2
}
