{
 "cells": [
  {
   "cell_type": "markdown",
   "id": "50ea24a8",
   "metadata": {},
   "source": [
    "# Bounded Box Gridded Data\n",
    "This notebook demonstrates the extraction of mapped data for a bounding box. These kind of requests return GeoTIFF type files. We will specify a bounding box and download Planetary Variable gridded-data.\n",
    "\n",
    "Reference information can be found at [Data access - Requesting gridded data](https://docs.vandersat.com/VanderSat_API_UserGuide.html#asynchronous-using-the-gridded-data-endpoint)\n",
    "\n",
    "Other API-endpoint operations can be found at [REST API - Planetary Variable products](https://maps.vandersat.com/api/v2/)"
   ]
  },
  {
   "cell_type": "code",
   "execution_count": null,
   "id": "ea79334f",
   "metadata": {},
   "outputs": [],
   "source": [
    "import os \n",
    "import requests"
   ]
  },
  {
   "cell_type": "markdown",
   "id": "ba616bd9",
   "metadata": {},
   "source": [
    "## Authenticating"
   ]
  },
  {
   "cell_type": "code",
   "execution_count": null,
   "id": "1779be81",
   "metadata": {},
   "outputs": [],
   "source": [
    "# Username and API Key stored as an environment variable\n",
    "AUTH = (os.getenv(\"VDS_USER\"), os.getenv(\"VDS_PASS\"))"
   ]
  },
  {
   "cell_type": "code",
   "execution_count": null,
   "id": "dfc7a878",
   "metadata": {},
   "outputs": [],
   "source": [
    "BASE_URL = \"https://maps.vandersat.com/api/v2\""
   ]
  },
  {
   "cell_type": "markdown",
   "id": "31527a1c",
   "metadata": {},
   "source": [
    "## Requests example\n",
    "First, we will check if our authentication is working. We want a response code of `200` from this API call."
   ]
  },
  {
   "cell_type": "code",
   "execution_count": null,
   "id": "b8c7ba0a",
   "metadata": {},
   "outputs": [],
   "source": [
    "# Authenticate\n",
    "session = requests.Session()\n",
    "session.auth = AUTH\n",
    "\n",
    "# Request\n",
    "response = session.get(BASE_URL)\n",
    "response"
   ]
  },
  {
   "cell_type": "markdown",
   "id": "74c3e00c",
   "metadata": {},
   "source": [
    "## Product operation examples\n",
    "We can request a list of the account's available PVs and see their information."
   ]
  },
  {
   "cell_type": "code",
   "execution_count": null,
   "id": "4b0478a3",
   "metadata": {},
   "outputs": [],
   "source": [
    "PRODUCT_URL = os.path.join(BASE_URL, \"products\")"
   ]
  },
  {
   "cell_type": "code",
   "execution_count": null,
   "id": "8fc77288",
   "metadata": {},
   "outputs": [],
   "source": [
    "response = session.get(PRODUCT_URL)\n",
    "product_list = response.json()[\"products\"]\n",
    "product_list"
   ]
  },
  {
   "cell_type": "markdown",
   "id": "b262852c",
   "metadata": {},
   "source": [
    "We can request a product's gridded data for a bounding box; we only need to define which `product_name`, and parameters `lon_min` & `lon_max`& `lat_min` & `lat_max` & `start_date` & `end_date`. Make sure the bounding box is inside your account's area-allowed."
   ]
  },
  {
   "cell_type": "code",
   "execution_count": null,
   "id": "4d27bd2b",
   "metadata": {},
   "outputs": [],
   "source": [
    "product_name = product_list[0][\"api_name\"]  # e.g. 'TEFF-AMSR2-DESC_V4.0_1000'\n",
    "parameters = {  # e.g. Netherlands\n",
    "    \"lon_min\": \"4.909772872924805\",\n",
    "    \"lon_max\": \"4.922990798950195\",\n",
    "    \"lat_min\": \"51.989637331792146\",\n",
    "    \"lat_max\": \"51.99328417001946\",\n",
    "    \"start_date\": \"2022-07-01\",\n",
    "    \"end_date\": \"2022-07-03\"\n",
    "}"
   ]
  },
  {
   "cell_type": "code",
   "execution_count": null,
   "id": "488a659b",
   "metadata": {},
   "outputs": [],
   "source": [
    "GRIDDED_URL = os.path.join(PRODUCT_URL, product_name, \"gridded-data\")\n",
    "response = session.get(GRIDDED_URL, params=parameters)\n",
    "response.json()"
   ]
  },
  {
   "cell_type": "markdown",
   "id": "568ce113",
   "metadata": {},
   "source": [
    "We've sent a download request, which takes our system some time to process. The request's response gives us an URL to check the `processing_status`. Next, when processing is ready, `percentage` returns 100, and `data` returns a list of downloadable file links."
   ]
  },
  {
   "cell_type": "code",
   "execution_count": null,
   "id": "2aad034f",
   "metadata": {},
   "outputs": [],
   "source": [
    "STATUS_URL = os.path.join(\"https://maps.vandersat.com\", response.json()[\"url\"])\n",
    "\n",
    "status = session.get(STATUS_URL).json()\n",
    "status"
   ]
  },
  {
   "cell_type": "markdown",
   "id": "2476b2ba",
   "metadata": {},
   "source": [
    "Let's request the `processing_status` and download the files when ready."
   ]
  },
  {
   "cell_type": "code",
   "execution_count": null,
   "id": "a087ee48",
   "metadata": {},
   "outputs": [],
   "source": [
    "import time\n",
    "\n",
    "# Specify output folder\n",
    "output_folder = \"/home/guyon/Downloads\"\n",
    "\n",
    "# Check status\n",
    "while status[\"percentage\"] < 100:\n",
    "    print(f\"Percentage:\", f\"{status['percentage']}%\")\n",
    "    time.sleep(3)\n",
    "    status = session.get(STATUS_URL).json()\n",
    "print(\"Processing status 100%\")\n",
    "\n",
    "# Download files\n",
    "files = status[\"data\"]\n",
    "for i, file in enumerate(files):\n",
    "    print(\"Downloading:\", f\"{i+1}/{len(files)}\")\n",
    "    file_uri = f\"https://maps.vandersat.com/{file}/download\"\n",
    "    r = session.get(file_uri)\n",
    "    \n",
    "    file_name = os.path.basename(file)\n",
    "    file_path = os.path.join(output_folder, file_name)\n",
    "    with open(file_path, 'wb') as f:\n",
    "        for chunk in r.iter_content(1024):\n",
    "            f.write(chunk)\n",
    "print(\"Finished downloading\")\n",
    "    "
   ]
  }
 ],
 "metadata": {
  "kernelspec": {
   "display_name": "Python 3 (ipykernel)",
   "language": "python",
   "name": "python3"
  },
  "language_info": {
   "codemirror_mode": {
    "name": "ipython",
    "version": 3
   },
   "file_extension": ".py",
   "mimetype": "text/x-python",
   "name": "python",
   "nbconvert_exporter": "python",
   "pygments_lexer": "ipython3",
   "version": "3.9.10"
  }
 },
 "nbformat": 4,
 "nbformat_minor": 5
}
