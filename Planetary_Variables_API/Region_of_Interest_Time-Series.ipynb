{
 "cells": [
  {
   "cell_type": "markdown",
   "id": "76a3c244",
   "metadata": {},
   "source": [
    "# Region of Ineterst Time-Series\n",
    "\n",
    "This notebook demonstrates generation and downloading ROI time-series. We will upload a region of interest and download time series from this ROI.\n",
    "\n",
    "Reference information can be found at [Data access - Requesting time-series](https://docs.vandersat.com/VanderSat_API_UserGuide.html#requesting-time-series)\n",
    "\n",
    "Other API end point operation can be found at [REST API - Planet Planetary Variables products](https://maps.vandersat.com/api/v2/)"
   ]
  },
  {
   "cell_type": "code",
   "execution_count": null,
   "id": "e19f650b",
   "metadata": {},
   "outputs": [],
   "source": [
    "import os\n",
    "import requests"
   ]
  },
  {
   "cell_type": "markdown",
   "id": "a96b7f40",
   "metadata": {},
   "source": [
    "## Authenticating "
   ]
  },
  {
   "cell_type": "code",
   "execution_count": null,
   "id": "ebc5142e",
   "metadata": {},
   "outputs": [],
   "source": [
    "# Username and API Key stored as an env variable\n",
    "AUTH = (os.getenv(\"VDS_USER\"), os.getenv(\"VDS_PASS\"))"
   ]
  },
  {
   "cell_type": "code",
   "execution_count": null,
   "id": "78415ddb",
   "metadata": {},
   "outputs": [],
   "source": [
    "BASE_URL = \"https://maps.vandersat.com/api/v2\""
   ]
  },
  {
   "cell_type": "markdown",
   "id": "ad29d8a2",
   "metadata": {},
   "source": [
    "## Requests example\n",
    "First, we will check if our authentication is working. We want a response code of `200` from this API call."
   ]
  },
  {
   "cell_type": "code",
   "execution_count": null,
   "id": "874b7674",
   "metadata": {},
   "outputs": [],
   "source": [
    "# Authenticate\n",
    "session = requests.Session()\n",
    "session.auth = AUTH\n",
    "\n",
    "# Request\n",
    "response = session.get(BASE_URL)\n",
    "response"
   ]
  },
  {
   "cell_type": "markdown",
   "id": "b2899c57",
   "metadata": {},
   "source": [
    "## ROI operation examples \n",
    "We can upload a polygon (ROI) to an account and receive product time-series. First, let's list all the current ROIS inside the account."
   ]
  },
  {
   "cell_type": "code",
   "execution_count": null,
   "id": "0c30edb5",
   "metadata": {},
   "outputs": [],
   "source": [
    "ROIS_URL = os.path.join(BASE_URL, \"rois\")"
   ]
  },
  {
   "cell_type": "code",
   "execution_count": null,
   "id": "5c646bdb",
   "metadata": {},
   "outputs": [],
   "source": [
    "# GET ROIS list\n",
    "response = session.get(ROIS_URL)\n",
    "response.json()[\"rois\"]"
   ]
  },
  {
   "cell_type": "markdown",
   "id": "ef92f518",
   "metadata": {},
   "source": [
    "Good chance there is no ROIS in the account yet, so let's create one first."
   ]
  },
  {
   "cell_type": "code",
   "execution_count": null,
   "id": "ff32e821",
   "metadata": {},
   "outputs": [],
   "source": [
    "# Create geometry of ROI\n",
    "roi_geojson = {\n",
    "    \"type\": \"Polygon\",\n",
    "    \"coordinates\": [\n",
    "      [\n",
    "        [\n",
    "          4.909772872924805,\n",
    "          51.989637331792146\n",
    "        ],\n",
    "        [\n",
    "          4.922990798950195,\n",
    "          51.989637331792146\n",
    "        ],\n",
    "        [\n",
    "          4.922990798950195,\n",
    "          51.99328417001946\n",
    "        ],\n",
    "        [\n",
    "          4.909772872924805,\n",
    "          51.99328417001946\n",
    "        ],\n",
    "        [\n",
    "          4.909772872924805,\n",
    "          51.989637331792146\n",
    "        ]\n",
    "      ]\n",
    "    ]\n",
    "}\n",
    "\n",
    "# Name & describe the ROI\n",
    "roi = {\n",
    "    \"name\": \"my_first_roi\",\n",
    "    \"description\": \"practice\",\n",
    "    \"geojson\": roi_geojson,\n",
    "}\n",
    "\n",
    "# You can post multiple ROIS\n",
    "rois = {\n",
    "    \"rois\": [roi]\n",
    "}"
   ]
  },
  {
   "cell_type": "code",
   "execution_count": null,
   "id": "2b5c2cf0",
   "metadata": {},
   "outputs": [],
   "source": [
    "# POST the ROI\n",
    "response = session.post(ROIS_URL, json=rois)\n",
    "response.json()"
   ]
  },
  {
   "cell_type": "markdown",
   "id": "1a5ee975",
   "metadata": {},
   "source": [
    "We can find our new ROI in the account's ROIS list."
   ]
  },
  {
   "cell_type": "code",
   "execution_count": null,
   "id": "96ab724d",
   "metadata": {},
   "outputs": [],
   "source": [
    "# GET ROIS list\n",
    "response = session.get(ROIS_URL)\n",
    "roi_list = response.json()[\"rois\"]"
   ]
  },
  {
   "cell_type": "markdown",
   "id": "2797e51d",
   "metadata": {},
   "source": [
    "## Product operation examples\n",
    "Now that we posted our ROI, our system will automatically calculate the ROI time-series for all products available in the account. The processing can take some time, which depends on the product's `date range` and `pixel size`.\n",
    "\n",
    "We can list the products available in the account and see their information."
   ]
  },
  {
   "cell_type": "code",
   "execution_count": null,
   "id": "75bdd122",
   "metadata": {},
   "outputs": [],
   "source": [
    "PRODUCT_URL = os.path.join(BASE_URL, \"products\")"
   ]
  },
  {
   "cell_type": "code",
   "execution_count": null,
   "id": "1c44d6dd",
   "metadata": {},
   "outputs": [],
   "source": [
    "response = session.get(PRODUCT_URL)\n",
    "product_list = response.json()[\"products\"]"
   ]
  },
  {
   "cell_type": "markdown",
   "id": "c2638773",
   "metadata": {},
   "source": [
    "We can get the product's ROI time-series on demand; we only need to define which `product_name` and which `roi_id` & `start_time` & `end_time` as parameters."
   ]
  },
  {
   "cell_type": "code",
   "execution_count": null,
   "id": "de0113ca",
   "metadata": {},
   "outputs": [],
   "source": [
    "product_name = product_list[0][\"api_name\"]  # e.g. 'TEFF-AMSR2-DESC_V4.0_1000'\n",
    "roi_id = roi_list[0][\"id\"]  # e.g. '37999'\n",
    "parameters = {\n",
    "    \"roi_id\": roi_id,\n",
    "    \"start_time\": \"2012-07-25\",\n",
    "    \"end_time\": \"2022-09-14\",\n",
    "    \"provide_coverage\": \"true\"\n",
    "}\n",
    "roi_id"
   ]
  },
  {
   "cell_type": "code",
   "execution_count": null,
   "id": "885bec02",
   "metadata": {},
   "outputs": [],
   "source": [
    "ROI_TS_URL = os.path.join(PRODUCT_URL, product_name, \"roi-time-series-sync\")\n",
    "response = session.get(ROI_TS_URL, params=parameters)\n",
    "response.content"
   ]
  },
  {
   "cell_type": "markdown",
   "id": "4bcbe059",
   "metadata": {},
   "source": [
    "The API responds the time-series text-csv format, which you can decode and read with, for instance, pandas. "
   ]
  },
  {
   "cell_type": "code",
   "execution_count": null,
   "id": "8fa558ad",
   "metadata": {},
   "outputs": [],
   "source": [
    "import pandas as pd\n",
    "import io\n",
    "\n",
    "# Read response\n",
    "df = pd.read_csv(\n",
    "    io.StringIO(response.content.decode(\"utf-8\")),\n",
    "    index_col=0,\n",
    "    parse_dates=True,\n",
    "    dayfirst=True,\n",
    "    comment=\"#\",\n",
    ")\n",
    "df"
   ]
  },
  {
   "cell_type": "code",
   "execution_count": null,
   "id": "e623d178",
   "metadata": {},
   "outputs": [],
   "source": [
    "# Write to csv\n",
    "fname = \"~/Downloads/pv_time_series.csv\"\n",
    "df.to_csv(fname)"
   ]
  }
 ],
 "metadata": {
  "kernelspec": {
   "display_name": "Python 3 (ipykernel)",
   "language": "python",
   "name": "python3"
  },
  "language_info": {
   "codemirror_mode": {
    "name": "ipython",
    "version": 3
   },
   "file_extension": ".py",
   "mimetype": "text/x-python",
   "name": "python",
   "nbconvert_exporter": "python",
   "pygments_lexer": "ipython3",
   "version": "3.9.10"
  }
 },
 "nbformat": 4,
 "nbformat_minor": 5
}
